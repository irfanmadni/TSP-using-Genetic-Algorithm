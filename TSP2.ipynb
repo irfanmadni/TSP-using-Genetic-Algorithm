{
 "cells": [
  {
   "cell_type": "code",
   "execution_count": 93,
   "id": "53f397e6",
   "metadata": {},
   "outputs": [],
   "source": [
    "import random\n",
    "import copy\n",
    "import math\n",
    "import matplotlib.pyplot as plt"
   ]
  },
  {
   "cell_type": "code",
   "execution_count": 114,
   "id": "e89363aa",
   "metadata": {},
   "outputs": [],
   "source": [
    "POPULATION_SIZE =20\n",
    "CITIES_SIZE = 20\n",
    "TOUR_SIZE =21\n",
    "NUM_EXECUTION =1000\n",
    "population = []\n",
    "x = []\n",
    "y = []"
   ]
  },
  {
   "cell_type": "code",
   "execution_count": 115,
   "id": "af55fa35",
   "metadata": {},
   "outputs": [],
   "source": [
    "tour = [[0 for x in range(TOUR_SIZE)] for y in range(TOUR_SIZE)]\n",
    "dCidade = [[0 for x in range(POPULATION_SIZE)] for y in range(POPULATION_SIZE)]\n",
    "distances = [0 for x in range(POPULATION_SIZE)]\n",
    "parentsOne = None\n",
    "parentsTwo = None\n",
    "costByExecution = []"
   ]
  },
  {
   "cell_type": "code",
   "execution_count": 116,
   "id": "3a2cd764",
   "metadata": {},
   "outputs": [],
   "source": [
    "def generateFirstPopulation():\n",
    "    for _ in range(1, POPULATION_SIZE + 1):\n",
    "        generatePossiblePath()"
   ]
  },
  {
   "cell_type": "code",
   "execution_count": 117,
   "id": "5c98e9a2",
   "metadata": {},
   "outputs": [],
   "source": [
    "def  generatePossiblePath():\n",
    "    path = []\n",
    "    for _ in range(1, CITIES_SIZE + 1):\n",
    "        x = random.randint(1, 20)\n",
    "        while(NumberExistsInPath(path, x)):\n",
    "            x = random.randint(1,20)\n",
    "        path.append(x)\n",
    "    population.append(path)\n",
    "    #print()"
   ]
  },
  {
   "cell_type": "code",
   "execution_count": 118,
   "id": "272a07a2",
   "metadata": {},
   "outputs": [],
   "source": [
    "def NumberExistsInPath(path, num):\n",
    "    for i in path:\n",
    "        if i == num:\n",
    "            return True\n",
    "    return False"
   ]
  },
  {
   "cell_type": "code",
   "execution_count": 119,
   "id": "f23890fe",
   "metadata": {},
   "outputs": [],
   "source": [
    "#generatePossiblePath()\n",
    "#population"
   ]
  },
  {
   "cell_type": "code",
   "execution_count": 120,
   "id": "f844dc5c",
   "metadata": {},
   "outputs": [],
   "source": [
    "#generateFirstPopulation()\n",
    "#population"
   ]
  },
  {
   "cell_type": "code",
   "execution_count": 121,
   "id": "2d17a948",
   "metadata": {},
   "outputs": [],
   "source": [
    "def generateXandY():\n",
    "    for _ in range(CITIES_SIZE):\n",
    "        randomNum  = random.random()\n",
    "        randomNum = round(randomNum, 2)\n",
    "        x.append(randomNum)\n",
    "        \n",
    "        randomNum  = random.random()\n",
    "        randomNum = round(randomNum, 2)\n",
    "        y.append(randomNum)\n",
    "    #print(x,y)"
   ]
  },
  {
   "cell_type": "code",
   "execution_count": 122,
   "id": "a646fe1c",
   "metadata": {},
   "outputs": [],
   "source": [
    "#generateXandY()"
   ]
  },
  {
   "cell_type": "code",
   "execution_count": 123,
   "id": "e2f36322",
   "metadata": {},
   "outputs": [],
   "source": [
    "def generateTour():\n",
    "    global tour\n",
    "    tour = copy.deepcopy(population)\n",
    "    for ways in tour:\n",
    "        first = ways[0]\n",
    "        ways.append(first)"
   ]
  },
  {
   "cell_type": "code",
   "execution_count": 124,
   "id": "c72786c5",
   "metadata": {},
   "outputs": [],
   "source": [
    "#generateTour()\n"
   ]
  },
  {
   "cell_type": "code",
   "execution_count": 125,
   "id": "98cc6013",
   "metadata": {},
   "outputs": [],
   "source": [
    "#tour"
   ]
  },
  {
   "cell_type": "code",
   "execution_count": 126,
   "id": "0185f021",
   "metadata": {},
   "outputs": [],
   "source": [
    "#population"
   ]
  },
  {
   "cell_type": "code",
   "execution_count": 127,
   "id": "751d379e",
   "metadata": {},
   "outputs": [],
   "source": [
    "def calculateDistances():\n",
    "    global distances\n",
    "    distances = [0 for x in range(CITIES_SIZE)]\n",
    "    for i in range(len(population)):\n",
    "        for j in range(len(population[i])):\n",
    "            firstPos = 19 if tour[i][j] == 20 else tour[i][j]\n",
    "            secondPos = 19 if tour[i][j+1] == 20 else tour[i][j+1]\n",
    "            distances[i] += round(dCidade[firstPos][secondPos], 4)\n",
    "    dict_dist = {i:distances[i] for i in range(0, len(distances))}\n",
    "    distances = copy.deepcopy(dict_dist)\n",
    "    return sorted(distances.items(), key=lambda kv: kv[1])"
   ]
  },
  {
   "cell_type": "code",
   "execution_count": 128,
   "id": "8652709a",
   "metadata": {},
   "outputs": [],
   "source": [
    "def fitnessFunction():\n",
    "    for i in range(len(population)):\n",
    "        for j in range(len(population)):\n",
    "            dCidade[i][j] = round(math.sqrt(((x[i]-x[j])**2)+ ((y[i]-y[j])**2)),4 )\n",
    "    return calculateDistances()"
   ]
  },
  {
   "cell_type": "code",
   "execution_count": 129,
   "id": "7de6a983",
   "metadata": {},
   "outputs": [],
   "source": [
    "def rouletteFunction(sorted_x):\n",
    "    global parentsOne\n",
    "    global parentsTwo\n",
    "    arr = []\n",
    "    rouletteArr = []\n",
    "    for i in range(10):\n",
    "        arr.append(sorted_x[i][0])\n",
    "    for j in range(len(arr)):\n",
    "        for _ in range(10 - j):\n",
    "            rouletteArr.append(arr[j])\n",
    "    parentsOne = createParents(rouletteArr)\n",
    "    parentsTwo = createParents(rouletteArr)"
   ]
  },
  {
   "cell_type": "code",
   "execution_count": 130,
   "id": "a505f819",
   "metadata": {},
   "outputs": [],
   "source": [
    "def createParents(rouletteArr):\n",
    "    parentArr = []\n",
    "    for _ in range(5):\n",
    "        parentArr.append(rouletteArr[random.randint(0,54)])\n",
    "    return parentArr"
   ]
  },
  {
   "cell_type": "code",
   "execution_count": 131,
   "id": "4685ddbd",
   "metadata": {},
   "outputs": [],
   "source": [
    "def mutate(matrix):\n",
    "    for i in range(0, len(matrix)):\n",
    "        for _ in range(0, len(matrix[i])):\n",
    "            ranNum = random.randint(1,100)\n",
    "            if ranNum >= 1 and ranNum <= 5:\n",
    "                indexOne = random.randint(0,19)\n",
    "                indexTwo = random.randint(0,19)\n",
    "                auxOne = matrix[i][indexOne]\n",
    "                auxTwo = matrix[i][indexTwo]\n",
    "                matrix[i][indexOne] = auxTwo\n",
    "                matrix[i][indexTwo] = auxOne"
   ]
  },
  {
   "cell_type": "code",
   "execution_count": 132,
   "id": "add1b4f6",
   "metadata": {},
   "outputs": [],
   "source": [
    "def hasDuplicity(auxArray, usedIndexes):\n",
    "    for i in range(len(auxArray)):\n",
    "        for j in range(i, len(auxArray)):\n",
    "            if i != j and auxArray[i] == auxArray[j]:\n",
    "                if i in usedIndexes:\n",
    "                    return j\n",
    "                else:\n",
    "                    return i\n",
    "    return -1\n",
    "\n",
    "def doCycle(sorted_x):\n",
    "    global population\n",
    "    children = []\n",
    "    \n",
    "    for i in range(5):\n",
    "        parentsOneAux = parentsOne[i]\n",
    "        parentsTwoAux = parentsTwo[i]\n",
    "        usedIndexes = []\n",
    "        \n",
    "        randomIndexInsidecromosom = random.randint(0, POPULATION_SIZE - 1)\n",
    "        \n",
    "        usedIndexes.append(randomIndexInsidecromosom)\n",
    "        \n",
    "        childOne = copy.deepcopy(population[parentsOneAux])\n",
    "        childTwo = copy.deepcopy(population[parentsTwoAux])\n",
    "        \n",
    "        valAuxOne = childOne[randomIndexInsidecromosom]\n",
    "        valAuxTwo = childTwo[randomIndexInsidecromosom]\n",
    "        \n",
    "        childOne[randomIndexInsidecromosom] = valAuxTwo\n",
    "        childTwo[randomIndexInsidecromosom] = valAuxOne\n",
    "        \n",
    "        \n",
    "        while(hasDuplicity(childOne,usedIndexes ) != -1):\n",
    "            newIndex = hasDuplicity(childOne,usedIndexes)\n",
    "            usedIndexes.append(newIndex)\n",
    "            \n",
    "            valAuxOne = childOne[newIndex]\n",
    "            valAuxTwo = childTwo[newIndex]\n",
    "        \n",
    "            childOne[newIndex] = valAuxTwo\n",
    "            childTwo[newIndex] = valAuxOne\n",
    "            \n",
    "        children.append(childOne)\n",
    "        children.append(childTwo)\n",
    "        \n",
    "    mutate(children)\n",
    "        \n",
    "    tempPop = copy.deepcopy(population)\n",
    "        \n",
    "    for i in range(10):\n",
    "        population[i] = copy.deepcopy(tempPop[sorted_x[i][0]])\n",
    "            \n",
    "    for j in range(10, POPULATION_SIZE):\n",
    "        population[j] = copy.deepcopy(children[j - 10])"
   ]
  },
  {
   "cell_type": "code",
   "execution_count": 133,
   "id": "01420932",
   "metadata": {},
   "outputs": [
    {
     "name": "stdout",
     "output_type": "stream",
     "text": [
      "Total Polulation: 20\n",
      "Mutation Probability: 5%\n",
      "Best Route: [3, 14, 9, 10, 13, 11, 19, 20, 12, 16, 5, 18, 8, 2, 4, 1, 15, 6, 17, 7]\n"
     ]
    },
    {
     "data": {
      "image/png": "[encoded data removed]",
      "text/plain": [
       "<Figure size 432x288 with 1 Axes>"
      ]
     },
     "metadata": {
      "needs_background": "light"
     },
     "output_type": "display_data"
    },
    {
     "data": {
      "image/png": "[encoded data removed]",
      "text/plain": [
       "<Figure size 432x288 with 1 Axes>"
      ]
     },
     "metadata": {
      "needs_background": "light"
     },
     "output_type": "display_data"
    }
   ],
   "source": [
    "def main():\n",
    "    generateFirstPopulation()\n",
    "    generateXandY()\n",
    "    generateTour()\n",
    "    \n",
    "    for _ in range(NUM_EXECUTION):\n",
    "        sorted_x = fitnessFunction()\n",
    "        rouletteFunction(sorted_x)\n",
    "        doCycle(sorted_x)\n",
    "        generateTour()\n",
    "        costByExecution.append(sorted_x[0][1])\n",
    "        \n",
    "    sorted_x = fitnessFunction()\n",
    "        \n",
    "    print('Total Polulation: %s' % (POPULATION_SIZE))\n",
    "    print('Mutation Probability: 5%')\n",
    "    #print('Number of cities: %s' % sorted_x[0][1])\n",
    "    print('Best Route: %s' % population[0])\n",
    "        \n",
    "        \n",
    "    plt.plot(tour[0])\n",
    "    plt.plot(tour[0], 'ro')\n",
    "    plt.axis([0, 20, 0, 20])\n",
    "    plt.show()\n",
    "        \n",
    "    plt.plot(costByExecution)\n",
    "    plt.show()\n",
    "        \n",
    "        \n",
    "if __name__ == \"__main__\":\n",
    "    main()      "
   ]
  }
 ],
 "metadata": {
  "kernelspec": {
   "display_name": "Python 3 (ipykernel)",
   "language": "python",
   "name": "python3"
  },
  "language_info": {
   "codemirror_mode": {
    "name": "ipython",
    "version": 3
   },
   "file_extension": ".py",
   "mimetype": "text/x-python",
   "name": "python",
   "nbconvert_exporter": "python",
   "pygments_lexer": "ipython3",
   "version": "3.9.7"
  }
 },
 "nbformat": 4,
 "nbformat_minor": 5
}
